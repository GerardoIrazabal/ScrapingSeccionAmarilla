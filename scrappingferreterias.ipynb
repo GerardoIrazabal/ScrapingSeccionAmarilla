{
 "cells": [
  {
   "cell_type": "code",
   "execution_count": null,
   "metadata": {
    "id": "FxQxqxjY-wOL"
   },
   "outputs": [],
   "source": [
    "#Agregar las librerias a utilizar\n",
    "#....\n",
    "import unicodedata\n",
    "import string \n",
    "import requests\n",
    "from bs4 import BeautifulSoup\n",
    "import pandas as pd\n",
    "import re\n",
    "import numpy as np\n",
    "import matplotlib.pyplot as plt"
   ]
  },
  {
   "cell_type": "markdown",
   "metadata": {
    "id": "P7dM8qDBQlDF"
   },
   "source": [
    "##**Almacenamiento de las URL: 30 páginas:**"
   ]
  },
  {
   "cell_type": "code",
   "execution_count": null,
   "metadata": {},
   "outputs": [],
   "source": [
    "user_input = input(\"Que quieres buscar\")"
   ]
  },
  {
   "cell_type": "code",
   "execution_count": null,
   "metadata": {},
   "outputs": [],
   "source": [
    "user_input = user_input.replace(\" \",\"-\")"
   ]
  },
  {
   "cell_type": "code",
   "execution_count": null,
   "metadata": {
    "id": "8xtXDpSd-wWm"
   },
   "outputs": [],
   "source": [
    "#Lectura de urls:\n",
    "urls=[f'https://www.seccionamarilla.com.mx/resultados/{user_input}/{i}' for i in range(1,31)]"
   ]
  },
  {
   "cell_type": "markdown",
   "metadata": {
    "id": "Jpd4bv1wQVEt"
   },
   "source": [
    "## **Función que extrae los campos de un Li**: Genera una fila de 8 campos."
   ]
  },
  {
   "cell_type": "code",
   "execution_count": null,
   "metadata": {
    "id": "q-5b8nU_tGGt"
   },
   "outputs": [],
   "source": [
    "def getFila(listaDIV): \n",
    "\n",
    "  #1.Nombre...........................................\n",
    "  if listaDIV.find('span',itemprop='name'):\n",
    "    nombre=listaDIV.find('span',itemprop='name').text\n",
    "  else:\n",
    "    nombre=''\n",
    "  #2.Calle:...........................................\n",
    "  if listaDIV.find('span',itemprop='streetAddress'):\n",
    "    calle=listaDIV.find('span',itemprop='streetAddress').text.replace(',','')\n",
    "  else:\n",
    "    calle=''\n",
    "\n",
    "  #3.Municipio:.......................................\n",
    "  if listaDIV.find('span',itemprop=''):\n",
    "    municipio=listaDIV.find('span',itemprop='').text.replace(',','')\n",
    "  else:\n",
    "    municipio=''\n",
    "\n",
    "  #4.Ciudad:..........................................\n",
    "  if listaDIV.find('span',itemprop='addressLocality'):\n",
    "    ciudad=listaDIV.find('span',itemprop='addressLocality').text.replace(',','')\n",
    "  else:\n",
    "    ciudad=''\n",
    "\n",
    "  #5.Estado:..........................................\n",
    "  if listaDIV.find('span',itemprop='addressRegion'):\n",
    "    estado=listaDIV.find('span',itemprop='addressRegion').text.replace(',','')\n",
    "  else:\n",
    "    estado=''\n",
    "\n",
    "  #6.Codigo postal:...................................\n",
    "  if listaDIV.find('span',itemprop='postalCode'):\n",
    "    postal=listaDIV.find('span',itemprop='postalCode').text\n",
    "  else:\n",
    "    postal=''\n",
    "\n",
    "  #7.Telefono:\n",
    "  if listaDIV.find('span',itemprop='telephone'):\n",
    "    telefono=listaDIV.find('span',itemprop='telephone').text\n",
    "  else:\n",
    "    telefono=''\n",
    "\n",
    "  #8. Categoria:......................................\n",
    "  categoria=listaDIV.findAll('span')[-2].text\n",
    "\n",
    "  return [nombre,calle,municipio,ciudad,estado,postal,telefono,categoria]\n",
    "\n",
    "\n",
    "\n",
    "  \n"
   ]
  },
  {
   "cell_type": "markdown",
   "metadata": {
    "id": "3S3WpfjJQfE2"
   },
   "source": [
    "##**Iteracion en todos los url (30 páginas):**"
   ]
  },
  {
   "cell_type": "code",
   "execution_count": null,
   "metadata": {
    "id": "LY9_dG_NlwWc"
   },
   "outputs": [],
   "source": [
    "FilasDataSet=[]\n",
    "i=1\n",
    "for url in urls:\n",
    "  #print('******************************** i = '+str(i)+' ********************************** ')\n",
    "  i+=1\n",
    "  html=requests.get(url).text #Extrae todo el contenido html\n",
    "  soup=BeautifulSoup(html,'lxml') #Se hace el scrapping de los tags html\n",
    "  elementoUL=soup.find('ul',class_='list') #Se busca el elemento ul\n",
    "  listaLi=elementoUL.findAll('li')  #se busca la lista de los li\n",
    " \n",
    "  for j in range(len(listaLi)):\n",
    "    listaDIV=listaLi[j].find('div',class_=\"six columns l-datos\") #se elige el div de la clase six columns l-datos\n",
    "    FilasDataSet.append(getFila(listaDIV)) #Se extrae la fila de datos del DIV listaDIV y se agrega a la lista FilasDataSet\n",
    "      "
   ]
  },
  {
   "cell_type": "markdown",
   "metadata": {
    "id": "qX7x0HxpQw30"
   },
   "source": [
    "## **Creación de un Dataframe que almacene las filas extraídas.**"
   ]
  },
  {
   "cell_type": "code",
   "execution_count": null,
   "metadata": {
    "id": "V7kszMCyAVmP"
   },
   "outputs": [],
   "source": [
    "#Se crea el DataFrame:\n",
    "header=['Nombre','Calle','Municipio','Ciudad','Estado','CodigoPostal','NumeroTelefono','Categoria']\n",
    "df_ori=pd.DataFrame(FilasDataSet,columns=header)"
   ]
  },
  {
   "cell_type": "markdown",
   "metadata": {
    "id": "JsvGw8k-Q3F4"
   },
   "source": [
    "## **Visualizando el dataframe:**"
   ]
  },
  {
   "cell_type": "code",
   "execution_count": null,
   "metadata": {
    "colab": {
     "base_uri": "https://localhost:8080/",
     "height": 534
    },
    "id": "KNW9FOvrAVo_",
    "outputId": "25a2eccb-e18b-4569-c850-4446d99ef649"
   },
   "outputs": [],
   "source": [
    "df_ori"
   ]
  },
  {
   "cell_type": "markdown",
   "metadata": {
    "id": "UBnWsoASQ6g7"
   },
   "source": [
    "## **Exportando a csv:**"
   ]
  },
  {
   "cell_type": "code",
   "execution_count": null,
   "metadata": {
    "id": "8FHOli_YAV0j"
   },
   "outputs": [],
   "source": [
    "#Exportando a csv:\n",
    "df_ori.to_csv(f'{user_input}.csv',encoding='latin-1',index=False)"
   ]
  },
  {
   "cell_type": "code",
   "execution_count": null,
   "metadata": {},
   "outputs": [],
   "source": []
  }
 ],
 "metadata": {
  "colab": {
   "collapsed_sections": [],
   "provenance": []
  },
  "kernelspec": {
   "display_name": "Python 3 (ipykernel)",
   "language": "python",
   "name": "python3"
  },
  "language_info": {
   "codemirror_mode": {
    "name": "ipython",
    "version": 3
   },
   "file_extension": ".py",
   "mimetype": "text/x-python",
   "name": "python",
   "nbconvert_exporter": "python",
   "pygments_lexer": "ipython3",
   "version": "3.9.13"
  }
 },
 "nbformat": 4,
 "nbformat_minor": 1
}
